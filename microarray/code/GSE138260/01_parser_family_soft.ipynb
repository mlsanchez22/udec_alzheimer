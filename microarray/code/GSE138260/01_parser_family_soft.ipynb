{
 "cells": [
  {
   "cell_type": "code",
   "execution_count": 1,
   "id": "136f3647-2981-4907-bd5c-40199a53bf50",
   "metadata": {},
   "outputs": [],
   "source": [
    "import gzip\n",
    "import pandas as pd\n",
    "import re"
   ]
  },
  {
   "cell_type": "code",
   "execution_count": 2,
   "id": "f6f32d0d-3b3f-42c6-a5fc-e383df6b5aa7",
   "metadata": {},
   "outputs": [],
   "source": [
    "soft_file = \"/home/mlopez/Desktop/alzheimer/data/GSE138260/GSE138260_family.soft.gz\""
   ]
  },
  {
   "cell_type": "code",
   "execution_count": 3,
   "id": "807e573c-1ca2-4630-a7e0-b944861e683b",
   "metadata": {},
   "outputs": [],
   "source": [
    "samples = []\n",
    "sample = {}\n",
    "\n",
    "with gzip.open(soft_file, 'rt', encoding='utf-8') as f:\n",
    "    for line in f:\n",
    "        line = line.strip()\n",
    "        if line.startswith(\"^SAMPLE\"):\n",
    "            if sample:\n",
    "                samples.append(sample)\n",
    "                sample = {}\n",
    "            sample[\"Accession\"] = line.split(\" = \")[1]\n",
    "        elif line.startswith(\"!Sample_title\"):\n",
    "            full_title = line.split(\" = \")[1]\n",
    "            sample[\"Title\"] = full_title.split(\",\")[0].strip()\n",
    "        elif line.startswith(\"!Sample_characteristics_ch1\"):\n",
    "            value = line.split(\" = \")[1]\n",
    "            if value.lower().startswith(\"sex:\"):\n",
    "                sample[\"Sex\"] = value.split(\":\")[1].strip()\n",
    "            elif value.lower().startswith(\"age:\"):\n",
    "                sample[\"Age\"] = value.split(\":\")[1].strip()\n",
    "            elif value.lower().startswith(\"disease status:\"):\n",
    "                sample[\"DiseaseStatus\"] = value.split(\":\")[1].strip()\n",
    "\n",
    "    if sample:\n",
    "        samples.append(sample)\n",
    "\n",
    "# Crear DataFrame\n",
    "df = pd.DataFrame(samples)\n",
    "\n",
    "# Extraer región cerebral (todo antes de \" AD\" o \" control\")\n",
    "df[\"BrainRegion\"] = df[\"Title\"].apply(lambda x: re.split(r\" AD| control\", x)[0].strip())\n",
    "\n",
    "# Extraer grupo (AD o control)\n",
    "df[\"Group\"] = df[\"Title\"].apply(lambda x: \"AD\" if \"AD\" in x else \"CONTROL\")\n",
    "\n",
    "# Extraer el ID de la muestra entre paréntesis\n",
    "df[\"SampleID\"] = df[\"Title\"].apply(lambda x: re.search(r\"\\((.*?)\\)\", x).group(1) if re.search(r\"\\((.*?)\\)\", x) else None)\n",
    "\n",
    "# Eliminar columna 'Title' si ya no es necesaria\n",
    "df.drop(columns=[\"Title\"], inplace=True)\n",
    "\n",
    "# Guardar el DataFrame en un archivo CSV\n",
    "df.to_csv(\"/home/mlopez/Desktop/alzheimer/results/GSE138260/GSE138260_metadata.csv\", index=False)"
   ]
  }
 ],
 "metadata": {
  "kernelspec": {
   "display_name": "Python (rpy-notebook)",
   "language": "python",
   "name": "rpy-notebook"
  },
  "language_info": {
   "codemirror_mode": {
    "name": "ipython",
    "version": 3
   },
   "file_extension": ".py",
   "mimetype": "text/x-python",
   "name": "python",
   "nbconvert_exporter": "python",
   "pygments_lexer": "ipython3",
   "version": "3.10.16"
  }
 },
 "nbformat": 4,
 "nbformat_minor": 5
}
