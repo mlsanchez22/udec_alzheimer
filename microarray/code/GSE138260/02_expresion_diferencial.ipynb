{
 "cells": [
  {
   "cell_type": "code",
   "execution_count": 21,
   "id": "dc7399cc-edf1-4cf2-ae95-3447c3c7d3d8",
   "metadata": {},
   "outputs": [],
   "source": [
    "library(limma)\n",
    "library(dplyr) \n",
    "library(ggplot2)\n",
    "library(readxl)\n",
    "library(viridis)"
   ]
  },
  {
   "cell_type": "code",
   "execution_count": 22,
   "id": "e3acbf22-c4fb-410c-af27-65f3750656f3",
   "metadata": {},
   "outputs": [
    {
     "data": {
      "text/html": [
       "16"
      ],
      "text/latex": [
       "16"
      ],
      "text/markdown": [
       "16"
      ],
      "text/plain": [
       "[1] 16"
      ]
     },
     "metadata": {},
     "output_type": "display_data"
    }
   ],
   "source": [
    "# Cargar la matriz de expresión\n",
    "expr_file <- \"/home/mlopez/Desktop/alzheimer/data/GSE138260/GSE138260_series_matrix.txt.gz\"\n",
    "raw_data <- read.delim(gzfile(expr_file), comment.char = \"!\", header = TRUE, row.names = 1)\n",
    "raw_data <- as.data.frame(raw_data)\n",
    "\n",
    "# Cargar los metadata\n",
    "metadata <- read.csv(\"/home/mlopez/Desktop/alzheimer/results/GSE138260/GSE138260_metadata.csv\", stringsAsFactors = FALSE)\n",
    "rownames(metadata) <- metadata$Accession\n",
    "\n",
    "# Leer líneas completas como texto\n",
    "ann_lines <- readLines(\"/home/mlopez/Desktop/alzheimer/data/GSE138260/annotation_lines.txt\")\n",
    "\n",
    "# Separar por tabulador (puede haber columnas vacías, así que no usar sep fijo)\n",
    "ann_split <- strsplit(ann_lines, \"\\t\")\n",
    "\n",
    "# Ver longitud máxima de columnas\n",
    "max(sapply(ann_split, length))  # te dará algo como 10\n",
    "\n",
    "# Convertir a data.frame con relleno\n",
    "ann_df <- do.call(rbind, lapply(ann_split, function(x) {\n",
    "  length(x) <- 10  # Asegurar que todas las filas tengan 10 columnas\n",
    "  return(x)\n",
    "}))\n",
    "\n",
    "# Convertir a data.frame\n",
    "\n",
    "ann_df <- as.data.frame(ann_df, stringsAsFactors = FALSE)\n",
    "\n",
    "# Renombrar columnas (ajustar si alguna no calza)\n",
    "colnames(ann_df) <- c(\"ProbeID\", \"ProbeName\", \"IsControl\", \"Empty1\", \"Empty2\",\n",
    "                      \"GeneSymbol\", \"GeneName\", \"Cytoband\", \"Annotation\", \"Sequence\")\n",
    "\n",
    "# Asegúrate de que GeneName no tenga NA\n",
    "ann_df <- ann_df[!is.na(ann_df$GeneName), ]"
   ]
  },
  {
   "cell_type": "code",
   "execution_count": 23,
   "id": "6f8af5a3-b901-4093-81da-ab2b6e8cdb2a",
   "metadata": {},
   "outputs": [],
   "source": [
    "raw_data$ProbeID <- rownames(raw_data)\n",
    " \n",
    "raw_data_annot <- merge(raw_data, ann_df, by.x=\"ProbeID\", by.y=\"ProbeID\")"
   ]
  },
  {
   "cell_type": "code",
   "execution_count": 24,
   "id": "e59007bd-15d8-49fc-9622-e0537c0be389",
   "metadata": {},
   "outputs": [],
   "source": [
    "# Primero, asegurémonos de que no haya duplicados en el merge por GeneName\n",
    "# El merge va a añadir las anotaciones, pero si hay duplicados, solo tomamos el primer valor por GeneName\n",
    "raw_data_annot <- raw_data_annot[!duplicated(raw_data_annot$GeneName), ]\n",
    "\n",
    "# Establecer GeneName como rownames\n",
    "rownames(raw_data_annot) <- raw_data_annot$GeneName"
   ]
  },
  {
   "cell_type": "code",
   "execution_count": 25,
   "id": "d3b19a8e-293f-4d94-97ad-268cafe1807b",
   "metadata": {},
   "outputs": [],
   "source": [
    "raw_data_annot <- data.frame(raw_data_annot[, grep(\"GSM\",colnames(raw_data_annot))])\n",
    "expr_matrix <- raw_data_annot[, sapply(raw_data_annot, is.numeric)]"
   ]
  },
  {
   "cell_type": "code",
   "execution_count": 26,
   "id": "3bd6c2ab-334e-4210-835b-93168694c05d",
   "metadata": {},
   "outputs": [
    {
     "data": {
      "text/html": [
       "<strong>pdf:</strong> 2"
      ],
      "text/latex": [
       "\\textbf{pdf:} 2"
      ],
      "text/markdown": [
       "**pdf:** 2"
      ],
      "text/plain": [
       "pdf \n",
       "  2 "
      ]
     },
     "metadata": {},
     "output_type": "display_data"
    }
   ],
   "source": [
    "pdf(\"/home/mlopez/Desktop/alzheimer/results/GSE138260/boxplot_raw_expr_GSE138260.pdf\")\n",
    "# Boxplot por muestra (cada columna es una muestra)\n",
    "boxplot(expr_matrix,\n",
    "        main = \"Boxplot por muestra\",\n",
    "        xlab = \"Muestras\",\n",
    "        ylab = \"Expresión (log2?)\",\n",
    "        las = 2,           # Rota nombres del eje x\n",
    "        col = \"lightblue\",\n",
    "        outline = FALSE)   # No mostrar outliers para una vista más clara\n",
    "dev.off()"
   ]
  },
  {
   "cell_type": "code",
   "execution_count": 27,
   "id": "079b296f-c9f6-4794-966b-b6af67619cf9",
   "metadata": {},
   "outputs": [
    {
     "data": {
      "text/html": [
       "<strong>pdf:</strong> 2"
      ],
      "text/latex": [
       "\\textbf{pdf:} 2"
      ],
      "text/markdown": [
       "**pdf:** 2"
      ],
      "text/plain": [
       "pdf \n",
       "  2 "
      ]
     },
     "metadata": {},
     "output_type": "display_data"
    }
   ],
   "source": [
    "# Crear un objeto tipo ExpressionSet si quieres (opcional)\n",
    "# o trabajar directamente con la matriz\n",
    "expr_matrix_norm <- normalizeBetweenArrays(as.matrix(expr_matrix), method = \"quantile\")\n",
    "\n",
    "pdf(\"/home/mlopez/Desktop/alzheimer/results/GSE138260/boxplot_norm_expr_GSE138260.pdf\")\n",
    "boxplot(expr_matrix_norm,\n",
    "        main = \"Boxplot tras normalización (cuantiles)\",\n",
    "        xlab = \"Muestras\",\n",
    "        ylab = \"Expresión normalizada\",\n",
    "        las = 2,\n",
    "        col = \"lightgreen\",\n",
    "        outline = FALSE)\n",
    "dev.off()"
   ]
  },
  {
   "cell_type": "code",
   "execution_count": 28,
   "id": "ddab421d-6e6d-464c-b91d-c7b93d0187fc",
   "metadata": {},
   "outputs": [
    {
     "data": {
      "text/html": [
       "<strong>pdf:</strong> 2"
      ],
      "text/latex": [
       "\\textbf{pdf:} 2"
      ],
      "text/markdown": [
       "**pdf:** 2"
      ],
      "text/plain": [
       "pdf \n",
       "  2 "
      ]
     },
     "metadata": {},
     "output_type": "display_data"
    }
   ],
   "source": [
    "# Transponer para que las filas sean muestras\n",
    "pca <- prcomp(t(expr_matrix_norm), scale. = TRUE)\n",
    "\n",
    "pca_df <- as.data.frame(pca$x[, 1:2])  # Primeras 2 PCs\n",
    "pca_df$SampleID <- rownames(pca_df)\n",
    "pca_df <- merge(pca_df, metadata, by.x = \"SampleID\", by.y=\"Accession\")\n",
    "\n",
    "pdf(\"/home/mlopez/Desktop/alzheimer/results/GSE138260/pca_norm_expr_GSE138260.pdf\")\n",
    "ggplot(pca_df, aes(x = PC1, y = PC2, color = Group)) +\n",
    "  geom_point(size = 3, alpha = 0.8) +\n",
    "  theme_minimal() +\n",
    "  labs(title = \"PCA of Expression Data\",\n",
    "       subtitle = \"Colored by AD/Control, shaped by Brain Region\",\n",
    "       x = paste0(\"PC1 (\", round(summary(pca)$importance[2,1] * 100, 1), \"%)\"),\n",
    "       y = paste0(\"PC2 (\", round(summary(pca)$importance[2,2] * 100, 1), \"%)\")) +\n",
    "  theme(axis.text = element_text(size=10),\n",
    "        plot.title = element_text(face=\"bold\", size=14),\n",
    "        legend.title = element_text(size=12))\n",
    "dev.off()"
   ]
  },
  {
   "cell_type": "code",
   "execution_count": 29,
   "id": "998b9277-3a62-45d8-8d67-dbb445a41db8",
   "metadata": {},
   "outputs": [],
   "source": [
    "# Asegurarte que el orden de las muestras en metadata coincida con las columnas de la matriz de expresión\n",
    "metadata <- metadata[colnames(expr_matrix_norm), ]\n",
    "\n",
    "# Crear factor de grupo\n",
    "group <- factor(metadata$Group, levels = c(\"CONTROL\", \"AD\"))\n",
    "\n",
    "# Crear matriz de diseño\n",
    "design <- model.matrix(~ 0 + group)\n",
    "colnames(design) <- levels(group)\n",
    "\n",
    "# Definir contraste: AD - CONTROL\n",
    "contrast_matrix <- makeContrasts(AD_vs_CONTROL = AD - CONTROL, levels = design)\n",
    "\n",
    "# Ajustar el modelo lineal\n",
    "fit <- lmFit(expr_matrix_norm, design)\n",
    "\n",
    "# Aplicar el contraste\n",
    "fit2 <- contrasts.fit(fit, contrast_matrix)\n",
    "\n",
    "# Aplicar moderación de varianza con eBayes\n",
    "fit2 <- eBayes(fit2)\n",
    "\n",
    "results <- topTable(fit2, coef = \"AD_vs_CONTROL\", number = Inf, adjust = \"fdr\")"
   ]
  },
  {
   "cell_type": "code",
   "execution_count": 30,
   "id": "50f44fd6-c435-4a82-ae3f-b49602a90d17",
   "metadata": {},
   "outputs": [
    {
     "name": "stderr",
     "output_type": "stream",
     "text": [
      "\u001b[1m\u001b[22mNew names:\n",
      "\u001b[36m•\u001b[39m `` -> `...1`\n"
     ]
    }
   ],
   "source": [
    "AD_T4_targets <- read_excel(\"/home/mlopez/Desktop/alzheimer/data/AD_T4_targets.xlsx\")"
   ]
  },
  {
   "cell_type": "code",
   "execution_count": 32,
   "id": "1568fb0c-19f2-4917-8ef8-3ba18479dfad",
   "metadata": {},
   "outputs": [
    {
     "data": {
      "text/html": [
       "<table class=\"dataframe\">\n",
       "<caption>A data.frame: 11 × 6</caption>\n",
       "<thead>\n",
       "\t<tr><th></th><th scope=col>logFC</th><th scope=col>AveExpr</th><th scope=col>t</th><th scope=col>P.Value</th><th scope=col>adj.P.Val</th><th scope=col>B</th></tr>\n",
       "\t<tr><th></th><th scope=col>&lt;dbl&gt;</th><th scope=col>&lt;dbl&gt;</th><th scope=col>&lt;dbl&gt;</th><th scope=col>&lt;dbl&gt;</th><th scope=col>&lt;dbl&gt;</th><th scope=col>&lt;dbl&gt;</th></tr>\n",
       "</thead>\n",
       "<tbody>\n",
       "\t<tr><th scope=row>SOX2</th><td>-0.1330562676</td><td> 8.726533</td><td>-0.759406584</td><td>0.4525259</td><td>0.7097635</td><td>-6.049002</td></tr>\n",
       "\t<tr><th scope=row>APOE</th><td>-0.2621224720</td><td>11.283661</td><td>-1.531338739</td><td>0.1343779</td><td>0.3865736</td><td>-5.203537</td></tr>\n",
       "\t<tr><th scope=row>AGT</th><td>-0.1607024919</td><td>10.326358</td><td>-0.761144778</td><td>0.4515001</td><td>0.7088684</td><td>-6.047707</td></tr>\n",
       "\t<tr><th scope=row>PHGDH</th><td>-0.1967675195</td><td> 9.421077</td><td>-0.991801290</td><td>0.3278772</td><td>0.6105966</td><td>-5.850759</td></tr>\n",
       "\t<tr><th scope=row>SOX9</th><td>-0.0807298186</td><td> 9.511944</td><td>-0.348192711</td><td>0.7297120</td><td>0.8856422</td><td>-6.273565</td></tr>\n",
       "\t<tr><th scope=row>ANK2</th><td> 0.0051783082</td><td>10.888753</td><td> 0.053568163</td><td>0.9575737</td><td>0.9849498</td><td>-6.332401</td></tr>\n",
       "\t<tr><th scope=row>ATG7</th><td>-0.0441806183</td><td> 7.569452</td><td>-0.606557496</td><td>0.5479295</td><td>0.7798201</td><td>-6.151585</td></tr>\n",
       "\t<tr><th scope=row>PAX6</th><td> 0.1870164976</td><td> 4.392259</td><td> 0.951795064</td><td>0.3475123</td><td>0.6258207</td><td>-5.888461</td></tr>\n",
       "\t<tr><th scope=row>TBL1X</th><td> 0.1614914714</td><td> 7.646890</td><td> 1.333574832</td><td>0.1906731</td><td>0.4655767</td><td>-5.469995</td></tr>\n",
       "\t<tr><th scope=row>ACHE</th><td> 0.0004875689</td><td> 9.449767</td><td> 0.005515234</td><td>0.9956298</td><td>0.9982720</td><td>-6.333815</td></tr>\n",
       "\t<tr><th scope=row>ABCB11</th><td>-0.0010447201</td><td> 1.882827</td><td>-0.018953794</td><td>0.9849820</td><td>0.9950150</td><td>-6.333651</td></tr>\n",
       "</tbody>\n",
       "</table>\n"
      ],
      "text/latex": [
       "A data.frame: 11 × 6\n",
       "\\begin{tabular}{r|llllll}\n",
       "  & logFC & AveExpr & t & P.Value & adj.P.Val & B\\\\\n",
       "  & <dbl> & <dbl> & <dbl> & <dbl> & <dbl> & <dbl>\\\\\n",
       "\\hline\n",
       "\tSOX2 & -0.1330562676 &  8.726533 & -0.759406584 & 0.4525259 & 0.7097635 & -6.049002\\\\\n",
       "\tAPOE & -0.2621224720 & 11.283661 & -1.531338739 & 0.1343779 & 0.3865736 & -5.203537\\\\\n",
       "\tAGT & -0.1607024919 & 10.326358 & -0.761144778 & 0.4515001 & 0.7088684 & -6.047707\\\\\n",
       "\tPHGDH & -0.1967675195 &  9.421077 & -0.991801290 & 0.3278772 & 0.6105966 & -5.850759\\\\\n",
       "\tSOX9 & -0.0807298186 &  9.511944 & -0.348192711 & 0.7297120 & 0.8856422 & -6.273565\\\\\n",
       "\tANK2 &  0.0051783082 & 10.888753 &  0.053568163 & 0.9575737 & 0.9849498 & -6.332401\\\\\n",
       "\tATG7 & -0.0441806183 &  7.569452 & -0.606557496 & 0.5479295 & 0.7798201 & -6.151585\\\\\n",
       "\tPAX6 &  0.1870164976 &  4.392259 &  0.951795064 & 0.3475123 & 0.6258207 & -5.888461\\\\\n",
       "\tTBL1X &  0.1614914714 &  7.646890 &  1.333574832 & 0.1906731 & 0.4655767 & -5.469995\\\\\n",
       "\tACHE &  0.0004875689 &  9.449767 &  0.005515234 & 0.9956298 & 0.9982720 & -6.333815\\\\\n",
       "\tABCB11 & -0.0010447201 &  1.882827 & -0.018953794 & 0.9849820 & 0.9950150 & -6.333651\\\\\n",
       "\\end{tabular}\n"
      ],
      "text/markdown": [
       "\n",
       "A data.frame: 11 × 6\n",
       "\n",
       "| <!--/--> | logFC &lt;dbl&gt; | AveExpr &lt;dbl&gt; | t &lt;dbl&gt; | P.Value &lt;dbl&gt; | adj.P.Val &lt;dbl&gt; | B &lt;dbl&gt; |\n",
       "|---|---|---|---|---|---|---|\n",
       "| SOX2 | -0.1330562676 |  8.726533 | -0.759406584 | 0.4525259 | 0.7097635 | -6.049002 |\n",
       "| APOE | -0.2621224720 | 11.283661 | -1.531338739 | 0.1343779 | 0.3865736 | -5.203537 |\n",
       "| AGT | -0.1607024919 | 10.326358 | -0.761144778 | 0.4515001 | 0.7088684 | -6.047707 |\n",
       "| PHGDH | -0.1967675195 |  9.421077 | -0.991801290 | 0.3278772 | 0.6105966 | -5.850759 |\n",
       "| SOX9 | -0.0807298186 |  9.511944 | -0.348192711 | 0.7297120 | 0.8856422 | -6.273565 |\n",
       "| ANK2 |  0.0051783082 | 10.888753 |  0.053568163 | 0.9575737 | 0.9849498 | -6.332401 |\n",
       "| ATG7 | -0.0441806183 |  7.569452 | -0.606557496 | 0.5479295 | 0.7798201 | -6.151585 |\n",
       "| PAX6 |  0.1870164976 |  4.392259 |  0.951795064 | 0.3475123 | 0.6258207 | -5.888461 |\n",
       "| TBL1X |  0.1614914714 |  7.646890 |  1.333574832 | 0.1906731 | 0.4655767 | -5.469995 |\n",
       "| ACHE |  0.0004875689 |  9.449767 |  0.005515234 | 0.9956298 | 0.9982720 | -6.333815 |\n",
       "| ABCB11 | -0.0010447201 |  1.882827 | -0.018953794 | 0.9849820 | 0.9950150 | -6.333651 |\n",
       "\n"
      ],
      "text/plain": [
       "       logFC         AveExpr   t            P.Value   adj.P.Val B        \n",
       "SOX2   -0.1330562676  8.726533 -0.759406584 0.4525259 0.7097635 -6.049002\n",
       "APOE   -0.2621224720 11.283661 -1.531338739 0.1343779 0.3865736 -5.203537\n",
       "AGT    -0.1607024919 10.326358 -0.761144778 0.4515001 0.7088684 -6.047707\n",
       "PHGDH  -0.1967675195  9.421077 -0.991801290 0.3278772 0.6105966 -5.850759\n",
       "SOX9   -0.0807298186  9.511944 -0.348192711 0.7297120 0.8856422 -6.273565\n",
       "ANK2    0.0051783082 10.888753  0.053568163 0.9575737 0.9849498 -6.332401\n",
       "ATG7   -0.0441806183  7.569452 -0.606557496 0.5479295 0.7798201 -6.151585\n",
       "PAX6    0.1870164976  4.392259  0.951795064 0.3475123 0.6258207 -5.888461\n",
       "TBL1X   0.1614914714  7.646890  1.333574832 0.1906731 0.4655767 -5.469995\n",
       "ACHE    0.0004875689  9.449767  0.005515234 0.9956298 0.9982720 -6.333815\n",
       "ABCB11 -0.0010447201  1.882827 -0.018953794 0.9849820 0.9950150 -6.333651"
      ]
     },
     "metadata": {},
     "output_type": "display_data"
    }
   ],
   "source": [
    "na.omit(results[AD_T4_targets$Prot,])"
   ]
  },
  {
   "cell_type": "code",
   "execution_count": null,
   "id": "12573910-860c-4c84-afda-3652543fde9c",
   "metadata": {},
   "outputs": [],
   "source": []
  }
 ],
 "metadata": {
  "kernelspec": {
   "display_name": "R",
   "language": "R",
   "name": "ir"
  },
  "language_info": {
   "codemirror_mode": "r",
   "file_extension": ".r",
   "mimetype": "text/x-r-source",
   "name": "R",
   "pygments_lexer": "r",
   "version": "4.3.3"
  }
 },
 "nbformat": 4,
 "nbformat_minor": 5
}
