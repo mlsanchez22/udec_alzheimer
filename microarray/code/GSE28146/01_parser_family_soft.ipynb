{
 "cells": [
  {
   "cell_type": "code",
   "execution_count": 1,
   "id": "3c512df5-3227-430f-bb9e-c44bfe27217e",
   "metadata": {},
   "outputs": [],
   "source": [
    "import gzip\n",
    "import pandas as pd\n",
    "import re"
   ]
  },
  {
   "cell_type": "code",
   "execution_count": 2,
   "id": "cb99ee13-23a9-4efc-8bdc-5ec275a947c3",
   "metadata": {},
   "outputs": [],
   "source": [
    "soft_file = \"/home/mlopez/Desktop/alzheimer/data/GSE28148/GSE28146_family.soft.gz\""
   ]
  },
  {
   "cell_type": "code",
   "execution_count": 5,
   "id": "e54f3acd-6f23-4a39-a998-bc53577d1c31",
   "metadata": {},
   "outputs": [
    {
     "name": "stdout",
     "output_type": "stream",
     "text": [
      "   Accession         Title     Sex           Age DiseaseStatus\n",
      "0  GSM697308   Control 976    Male  85 years old       Control\n",
      "1  GSM697309  Control 1003    Male  80 years old       Control\n",
      "2  GSM697310  Control 1008  Female  92 years old       Control\n",
      "3  GSM697311  Control 1012    Male  80 years old       Control\n",
      "4  GSM697312  Control 1015    Male  75 years old       Control\n"
     ]
    }
   ],
   "source": [
    "# Variables para almacenar datos\n",
    "samples = []\n",
    "sample = {}\n",
    "\n",
    "# Leer el archivo .soft\n",
    "with gzip.open(soft_file, 'rt', encoding='utf-8') as f:\n",
    "    for line in f:\n",
    "        line = line.strip()\n",
    "        if line.startswith(\"^SAMPLE\"):\n",
    "            if sample:\n",
    "                samples.append(sample)\n",
    "                sample = {}\n",
    "            sample[\"Accession\"] = line.split(\" = \")[1]\n",
    "        elif line.startswith(\"!Sample_title\"):\n",
    "            sample[\"Title\"] = line.split(\" = \")[1]\n",
    "        elif line.startswith(\"!Sample_characteristics_ch1\"):\n",
    "            value = line.split(\" = \")[1]\n",
    "            if value.lower().startswith(\"sex:\"):\n",
    "                sample[\"Sex\"] = value.split(\":\")[1].strip()\n",
    "            elif value.lower().startswith(\"age:\"):\n",
    "                sample[\"Age\"] = value.split(\":\")[1].strip()\n",
    "            elif value.lower().startswith(\"disease status:\"):\n",
    "                sample[\"DiseaseStatus\"] = value.split(\":\")[1].strip()\n",
    "    if sample:\n",
    "        samples.append(sample)  # Agregar el último\n",
    "\n",
    "# Crear DataFrame\n",
    "df = pd.DataFrame(samples)\n",
    "\n",
    "# Mostrar tabla\n",
    "print(df.head())"
   ]
  },
  {
   "cell_type": "code",
   "execution_count": null,
   "id": "354c21c2-750d-4634-b0bb-dba64bf9bf8c",
   "metadata": {},
   "outputs": [],
   "source": [
    "df.to_csv(\"/home/mlopez/Desktop/alzheimer/ /00_download_datasets/GSE28146/GSE28146_metadata.csv\", index=False)"
   ]
  }
 ],
 "metadata": {
  "kernelspec": {
   "display_name": "Python (rpy-notebook)",
   "language": "python",
   "name": "rpy-notebook"
  },
  "language_info": {
   "codemirror_mode": {
    "name": "ipython",
    "version": 3
   },
   "file_extension": ".py",
   "mimetype": "text/x-python",
   "name": "python",
   "nbconvert_exporter": "python",
   "pygments_lexer": "ipython3",
   "version": "3.10.16"
  }
 },
 "nbformat": 4,
 "nbformat_minor": 5
}
