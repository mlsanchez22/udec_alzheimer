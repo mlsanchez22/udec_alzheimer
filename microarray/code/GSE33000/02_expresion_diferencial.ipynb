{
 "cells": [
  {
   "cell_type": "code",
   "execution_count": 26,
   "id": "01222e2e-e74f-46e9-a620-adb1256c283e",
   "metadata": {},
   "outputs": [],
   "source": [
    "library(limma)\n",
    "library(ggplot2)\n",
    "library(readxl)\n",
    "library(viridis)"
   ]
  },
  {
   "cell_type": "code",
   "execution_count": 27,
   "id": "06c5c149-f35e-49cd-bd2c-71e44a482c61",
   "metadata": {},
   "outputs": [],
   "source": [
    "# Cargar la matriz de expresión\n",
    "expr_file <- \"/home/mlopez/Desktop/alzheimer/data/GSE33000/GSE33000_raw_data.txt.gz\"\n",
    "raw_data <- read.delim(gzfile(expr_file), comment.char = \"!\", header = TRUE, row.names = 1)\n",
    "raw_data$ID <- rownames(raw_data)"
   ]
  },
  {
   "cell_type": "code",
   "execution_count": 28,
   "id": "af82d1a1-722a-40a1-aeab-c78f0e424a5b",
   "metadata": {},
   "outputs": [],
   "source": [
    "# Cargar los metadata\n",
    "metadata <- read.csv(\"/home/mlopez/Desktop/alzheimer/results/GSE33000/GSE33000_metadata.csv\", stringsAsFactors = FALSE)\n",
    "metadata_az_ctrol <- unique(metadata[metadata$disease.status %in% c('Alzheimer\\'s disease','non-demented'),])\n",
    "metadata_az_ctrol$group <- rep(\"-\", length(metadata_az_ctrol$disease.status)) \n",
    "metadata_az_ctrol$group[metadata_az_ctrol$disease.status == \"non-demented\"] <- \"Ctrol\"\n",
    "metadata_az_ctrol$group[metadata_az_ctrol$disease.status == \"Alzheimer\\'s disease\"] <- \"AD\""
   ]
  },
  {
   "cell_type": "code",
   "execution_count": 29,
   "id": "2a023276-8d48-4f55-88f0-29a183fbe9bd",
   "metadata": {},
   "outputs": [],
   "source": [
    "raw_data_az_ctrol <- raw_data[,colnames(raw_data) %in% metadata_az_ctrol$Source]\n",
    "raw_data_az_ctrol$Gene <- raw_data$Gene\n",
    "raw_data_az_ctrol$Transcript <- raw_data$Transcript\n",
    "raw_data_az_ctrol$ID <- raw_data$ID"
   ]
  },
  {
   "cell_type": "code",
   "execution_count": 30,
   "id": "0e60c107-35f8-4ce0-b9ff-d0e2f639420e",
   "metadata": {},
   "outputs": [],
   "source": [
    "# Cargar el fichero de anotacion del tipo de microarray \n",
    "\n",
    "mapping_data <- read.csv(\"/home/mlopez/Desktop/alzheimer/data/GSE33000/annotation_rosetta_microarray.csv\", comment.char = \"#\", header = TRUE, sep=\"\\t\")"
   ]
  },
  {
   "cell_type": "code",
   "execution_count": 31,
   "id": "01343ca4-e9b6-4d8d-9dd1-977fdd900cb6",
   "metadata": {},
   "outputs": [],
   "source": [
    "# preparar la matrix de expresión\n",
    "\n",
    "raw_data_annot <- merge(raw_data_az_ctrol, mapping_data, by =\"ID\")\n",
    "\n",
    "#hay sonda duplicadas. me quedo con las de mayor varianza. \n",
    "exprs_data <- raw_data_annot[raw_data_annot$ORF != \"\",]\n",
    "\n",
    "\n",
    "# 1. Calcular la varianza por fila\n",
    "exprs_data$variance <- apply(exprs_data[,metadata_az_ctrol$Source], 1, var)\n",
    "\n",
    "# 2. Ordenar por ORF y por varianza (de mayor a menor)\n",
    "exprs_data_sorted <- exprs_data[order(exprs_data$ORF, -exprs_data$variance), ]\n",
    "\n",
    "# 3. Filtrar para quedarte solo con el ORF de mayor varianza (el primero que aparece)\n",
    "exprs_data_unique <- exprs_data_sorted[!duplicated(exprs_data_sorted$ORF), ]\n",
    "exprs_data_alz_ctrol <- exprs_data_unique[,metadata_az_ctrol$Source]\n",
    "\n",
    "# 4. Asignar los nombres de fila con ORF (ya no habrá duplicados)\n",
    "rownames(exprs_data_alz_ctrol) <- exprs_data_unique$ORF\n",
    "exprs_data_alz_ctrol$ORF <- NULL\n",
    "exprs_data_alz_ctrol$ID <- NULL"
   ]
  },
  {
   "cell_type": "code",
   "execution_count": 7,
   "id": "61e9eec9-1b88-4176-9a82-383e37581256",
   "metadata": {},
   "outputs": [
    {
     "data": {
      "text/html": [
       "<strong>pdf:</strong> 2"
      ],
      "text/latex": [
       "\\textbf{pdf:} 2"
      ],
      "text/markdown": [
       "**pdf:** 2"
      ],
      "text/plain": [
       "pdf \n",
       "  2 "
      ]
     },
     "metadata": {},
     "output_type": "display_data"
    }
   ],
   "source": [
    "pdf(\"/home/mlopez/Desktop/alzheimer/results/GSE33000/boxplot_raw_expr_GSE33000.pdf\", width=20, height=12)\n",
    "# Boxplot más amplio\n",
    "par(mar=c(15,4,4,2))  # margenes inferiores más grandes para etiquetas\n",
    "boxplot(exprs_data_alz_ctrol, las = 2, main = \"Datos sin normalizar\", ylab = \"Expresión\", col = \"lightblue\", outline = FALSE)\n",
    "dev.off()"
   ]
  },
  {
   "cell_type": "code",
   "execution_count": 32,
   "id": "9c63ad79-94ea-4b99-b260-bd3485d965f2",
   "metadata": {},
   "outputs": [],
   "source": [
    "norm_expr <- normalizeBetweenArrays(exprs_data_alz_ctrol , method = \"quantile\")"
   ]
  },
  {
   "cell_type": "code",
   "execution_count": 9,
   "id": "0aa428a1-e7bd-4711-9e5f-0c1f8f7c355a",
   "metadata": {},
   "outputs": [
    {
     "data": {
      "text/html": [
       "<strong>pdf:</strong> 2"
      ],
      "text/latex": [
       "\\textbf{pdf:} 2"
      ],
      "text/markdown": [
       "**pdf:** 2"
      ],
      "text/plain": [
       "pdf \n",
       "  2 "
      ]
     },
     "metadata": {},
     "output_type": "display_data"
    }
   ],
   "source": [
    "pdf(\"/home/mlopez/Desktop/alzheimer/results/GSE33000/boxplot_norm_expr_GSE33000.pdf\", width=20, height=12)\n",
    "# Boxplot más amplio\n",
    "par(mar=c(15,4,4,2))  # margenes inferiores más grandes para etiquetas\n",
    "boxplot(norm_expr, las = 2, main = \"Datos normalizados\", ylab = \"Expresión\", col = \"lightgreen\", outline = FALSE)\n",
    "dev.off()"
   ]
  },
  {
   "cell_type": "code",
   "execution_count": 33,
   "id": "2f04522b-32a3-4750-8546-eeb4a3f2ba6c",
   "metadata": {},
   "outputs": [],
   "source": [
    "norm_expr_clean <- norm_expr[complete.cases(norm_expr), ]  # Elimina filas con NA"
   ]
  },
  {
   "cell_type": "code",
   "execution_count": 34,
   "id": "547ca441-36df-48b3-b1a8-074a4f0a6cbc",
   "metadata": {},
   "outputs": [],
   "source": [
    "# Transponer para que las filas sean muestras\n",
    "pca <- prcomp(t(norm_expr_clean), scale. = TRUE)\n",
    "\n",
    "pca_df <- as.data.frame(pca$x[, 1:2])  # Primeras 2 PCs\n",
    "pca_df$SampleID <- rownames(pca_df)\n",
    "pca_df <- merge(pca_df, metadata_az_ctrol, by.x = \"SampleID\", by.y=\"Source\")"
   ]
  },
  {
   "cell_type": "code",
   "execution_count": 12,
   "id": "285672ad-9535-4c89-bcc6-e754f3b7afeb",
   "metadata": {},
   "outputs": [
    {
     "data": {
      "text/html": [
       "<strong>pdf:</strong> 2"
      ],
      "text/latex": [
       "\\textbf{pdf:} 2"
      ],
      "text/markdown": [
       "**pdf:** 2"
      ],
      "text/plain": [
       "pdf \n",
       "  2 "
      ]
     },
     "metadata": {},
     "output_type": "display_data"
    }
   ],
   "source": [
    "pdf(\"/home/mlopez/Desktop/alzheimer/results/GSE33000/pca_norm_expr_GSE33000.pdf\")\n",
    "ggplot(pca_df, aes(x = PC1, y = PC2, color = group)) +\n",
    "  geom_point(size = 3, alpha = 0.8) +\n",
    "  theme_minimal() +\n",
    "  labs(title = \"PCA of Expression Data\",\n",
    "       subtitle = \"Colored by AD/Control, shaped by Brain Region\",\n",
    "       x = paste0(\"PC1 (\", round(summary(pca)$importance[2,1] * 100, 1), \"%)\"),\n",
    "       y = paste0(\"PC2 (\", round(summary(pca)$importance[2,2] * 100, 1), \"%)\")) +\n",
    "  theme(axis.text = element_text(size=10),\n",
    "        plot.title = element_text(face=\"bold\", size=14),\n",
    "        legend.title = element_text(size=12))\n",
    "dev.off()"
   ]
  },
  {
   "cell_type": "code",
   "execution_count": 35,
   "id": "21f45791-32c4-44e6-a180-05fe21949021",
   "metadata": {},
   "outputs": [],
   "source": [
    "design <- model.matrix(~0 + factor(metadata_az_ctrol$group))  # 0 indica sin intercepto\n",
    "colnames(design) <- c(\"AD\", \"Ctrol\")  # Asigna nombres de columna a los grupos\n",
    "\n",
    "\n",
    "fit <- lmFit(norm_expr_clean, design)  # Ajuste del modelo para los datos\n",
    "\n",
    "contrast.matrix <- makeContrasts(AD - Ctrol, levels = design)\n",
    "fit2 <- contrasts.fit(fit, contrast.matrix)\n",
    "fit2 <- eBayes(fit2)\n",
    "\n",
    "results <- topTable(fit2, adjust = \"fdr\", sort.by = \"P\", number = Inf)  # Ajuste FDR y ordenación por P-valor"
   ]
  },
  {
   "cell_type": "code",
   "execution_count": 36,
   "id": "54378728-f157-4751-a67f-4c0669453c67",
   "metadata": {},
   "outputs": [],
   "source": [
    "write.csv(results, file = \"/home/mlopez/Desktop/alzheimer/results/GSE28146/dif_expr_results_GSE28146.csv\", row.names = TRUE)"
   ]
  },
  {
   "cell_type": "code",
   "execution_count": 39,
   "id": "d76da95f-2589-4327-adb6-cff1620a8f04",
   "metadata": {},
   "outputs": [
    {
     "name": "stderr",
     "output_type": "stream",
     "text": [
      "\u001b[1m\u001b[22mNew names:\n",
      "\u001b[36m•\u001b[39m `` -> `...1`\n"
     ]
    }
   ],
   "source": [
    "AD_T4_targets <- read_excel(\"/home/mlopez/Desktop/alzheimer/data/AD_T4_targets.xlsx\")"
   ]
  },
  {
   "cell_type": "code",
   "execution_count": 40,
   "id": "e4e4f246-ea39-4f55-964c-e774c402138e",
   "metadata": {},
   "outputs": [],
   "source": [
    "T4_exp_dif <- na.omit(results[AD_T4_targets$Prot,])"
   ]
  },
  {
   "cell_type": "code",
   "execution_count": 44,
   "id": "9d02abbb-e98e-4bad-a6a1-1db6667aa262",
   "metadata": {},
   "outputs": [
    {
     "data": {
      "image/png": "[encoded data removed]",
      "text/plain": [
       "plot without title"
      ]
     },
     "metadata": {
      "image/png": {
       "height": 420,
       "width": 420
      }
     },
     "output_type": "display_data"
    }
   ],
   "source": [
    "T4_exp_dif_sig <- T4_exp_dif[T4_exp_dif$adj.P.Val < 0.05, ]\n",
    "\n",
    "T4_exp_dif_sig$gene <- rownames(T4_exp_dif_sig)\n",
    "\n",
    "ggplot(T4_exp_dif_sig, aes(x = gene, y = logFC, fill = logFC)) +\n",
    "  geom_col(width = 0.6) +\n",
    "  scale_fill_viridis(option = \"C\", direction = -1) +\n",
    "  labs(\n",
    "    title = \"log2FC para genes T4 en Neurons 1\",\n",
    "    x = \"Gen\",\n",
    "    y = \"log2FC\",\n",
    "    fill = \"log2FC\"\n",
    "  ) +\n",
    "  theme_minimal(base_size = 16) +\n",
    "  theme(\n",
    "    axis.text.x = element_text(angle = 45, hjust = 1, size = 16),\n",
    "    axis.title = element_text(size = 20),\n",
    "    plot.title = element_text(size = 22, face = \"bold\")\n",
    "  )"
   ]
  }
 ],
 "metadata": {
  "kernelspec": {
   "display_name": "R",
   "language": "R",
   "name": "ir"
  },
  "language_info": {
   "codemirror_mode": "r",
   "file_extension": ".r",
   "mimetype": "text/x-r-source",
   "name": "R",
   "pygments_lexer": "r",
   "version": "4.3.3"
  }
 },
 "nbformat": 4,
 "nbformat_minor": 5
}
