{
 "cells": [
  {
   "cell_type": "code",
   "execution_count": 15,
   "id": "022cf316-6ef4-4c4a-b65c-51d5ce9d04a5",
   "metadata": {},
   "outputs": [
    {
     "name": "stderr",
     "output_type": "stream",
     "text": [
      "Loading required package: viridisLite\n",
      "\n"
     ]
    }
   ],
   "source": [
    "library(limma)\n",
    "library(dplyr)\n",
    "library(ggplot2)\n",
    "library(org.Hs.eg.db)\n",
    "library(hugene10sttranscriptcluster.db)\n",
    "library(readxl)\n",
    "library(viridis)"
   ]
  },
  {
   "cell_type": "code",
   "execution_count": 2,
   "id": "68b27d67-2d0b-4513-b641-6646189e1261",
   "metadata": {},
   "outputs": [],
   "source": [
    "# Cargar la matriz de expresión\n",
    "expr_file <- \"/home/mlopez/Desktop/alzheimer/data/GSE36980/GSE36980_series_matrix.txt.gz\"\n",
    "raw_data <- read.delim(gzfile(expr_file), comment.char = \"!\", header = TRUE, row.names = 1)\n",
    "\n",
    "# Cargar los metadata\n",
    "metadata <- read.csv(\"/home/mlopez/Desktop/alzheimer/results/GSE36980/GSE36980_metadata.csv\", stringsAsFactors = FALSE)\n",
    "rownames(metadata) <- metadata$Accession"
   ]
  },
  {
   "cell_type": "code",
   "execution_count": 3,
   "id": "028a85d3-b007-4575-9526-173fa6f95c0b",
   "metadata": {},
   "outputs": [
    {
     "name": "stderr",
     "output_type": "stream",
     "text": [
      "'select()' returned 1:many mapping between keys and columns\n",
      "\n"
     ]
    }
   ],
   "source": [
    "# Obtener los símbolos\n",
    "gene_symbols <- mapIds(hugene10sttranscriptcluster.db,\n",
    "                       keys = rownames(raw_data),\n",
    "                       column = \"SYMBOL\",\n",
    "                       keytype = \"PROBEID\",\n",
    "                       multiVals = \"first\")\n",
    "\n",
    "# Añadir gene symbols como columna\n",
    "raw_data$GeneSymbol <- gene_symbols[rownames(raw_data)]\n",
    "\n",
    "# Eliminar probes sin símbolo\n",
    "annotated_data <- raw_data[!is.na(raw_data$GeneSymbol), ]\n",
    "\n",
    "# Calcular varianza por fila (sin contar la columna GeneSymbol)\n",
    "annotated_data$Variance <- apply(annotated_data[, -ncol(annotated_data)], 1, var)\n",
    "\n",
    "collapsed_data <- annotated_data %>%\n",
    "  group_by(GeneSymbol) %>%\n",
    "  slice_max(order_by = Variance, n = 1, with_ties = FALSE) %>%\n",
    "  ungroup()\n",
    "\n",
    "collapsed_data <- collapsed_data[!is.na(collapsed_data$GeneSymbol), ]\n",
    "collapsed_data <- as.data.frame(collapsed_data[!duplicated(collapsed_data$GeneSymbol), ])\n",
    "\n",
    "rownames(collapsed_data) <- collapsed_data$GeneSymbol\n",
    "collapsed_data$GeneSymbol <- NULL\n",
    "collapsed_data$Variance <- NULL"
   ]
  },
  {
   "cell_type": "code",
   "execution_count": 4,
   "id": "d5aa31f1-50d9-4e16-84bc-13d5c86c8491",
   "metadata": {},
   "outputs": [
    {
     "data": {
      "text/html": [
       "<strong>pdf:</strong> 2"
      ],
      "text/latex": [
       "\\textbf{pdf:} 2"
      ],
      "text/markdown": [
       "**pdf:** 2"
      ],
      "text/plain": [
       "pdf \n",
       "  2 "
      ]
     },
     "metadata": {},
     "output_type": "display_data"
    }
   ],
   "source": [
    "pdf(\"/home/mlopez/Desktop/alzheimer/results/GSE36980/boxplot_raw_expr_GSE36980.pdf\", width=20, height=12)\n",
    "# Crear boxplot\n",
    "boxplot(collapsed_data,\n",
    "        las = 2,               # etiquetas en el eje x verticales\n",
    "        outline = FALSE,       # sin outliers para ver mejor la forma\n",
    "        col = \"skyblue\",\n",
    "        main = \"Boxplot por muestra\",\n",
    "        ylab = \"Expresión log2\"  # cambia si no están log-transformados\n",
    ")\n",
    "dev.off()"
   ]
  },
  {
   "cell_type": "code",
   "execution_count": 5,
   "id": "dc6bedd8-4ac7-4e60-9d71-08fe71d1fc65",
   "metadata": {},
   "outputs": [
    {
     "data": {
      "text/html": [
       "<strong>pdf:</strong> 2"
      ],
      "text/latex": [
       "\\textbf{pdf:} 2"
      ],
      "text/markdown": [
       "**pdf:** 2"
      ],
      "text/plain": [
       "pdf \n",
       "  2 "
      ]
     },
     "metadata": {},
     "output_type": "display_data"
    }
   ],
   "source": [
    "# Convertir a objeto tipo `ExpressionSet` (opcional, pero útil si usas limma completo)\n",
    "expr_matrix <- as.matrix(collapsed_data)\n",
    "norm_expr <- normalizeBetweenArrays(expr_matrix, method = \"quantile\")\n",
    "\n",
    "pdf(\"/home/mlopez/Desktop/alzheimer/results/GSE36980/boxplot_norm_expr_GSE36980.pdf\")\n",
    "boxplot(norm_expr, \n",
    "        main = \"Expresión por muestra (después de normalizar)\", \n",
    "        las = 2, \n",
    "        col = \"lightgreen\", \n",
    "        outline = FALSE)\n",
    "dev.off()"
   ]
  },
  {
   "cell_type": "code",
   "execution_count": 6,
   "id": "497ace9c-9943-4e7a-a11c-fa516075e0fd",
   "metadata": {},
   "outputs": [
    {
     "data": {
      "text/plain": [
       "Importance of components:\n",
       "                           PC1     PC2     PC3      PC4      PC5     PC6\n",
       "Standard deviation     63.4722 53.5899 40.5704 31.79597 26.73272 25.7595\n",
       "Proportion of Variance  0.2022  0.1441  0.0826  0.05073  0.03586  0.0333\n",
       "Cumulative Proportion   0.2022  0.3463  0.4289  0.47960  0.51546  0.5488\n",
       "                            PC7      PC8      PC9     PC10     PC11     PC12\n",
       "Standard deviation     23.59001 21.98393 21.04077 20.09339 19.47055 17.93545\n",
       "Proportion of Variance  0.02792  0.02425  0.02222  0.02026  0.01902  0.01614\n",
       "Cumulative Proportion   0.57669  0.60094  0.62315  0.64341  0.66244  0.67858\n",
       "                           PC13     PC14     PC15     PC16     PC17     PC18\n",
       "Standard deviation     17.23747 16.72694 16.08822 15.48462 14.69230 13.86166\n",
       "Proportion of Variance  0.01491  0.01404  0.01299  0.01203  0.01083  0.00964\n",
       "Cumulative Proportion   0.69349  0.70753  0.72052  0.73255  0.74338  0.75303\n",
       "                           PC19     PC20     PC21     PC22     PC23     PC24\n",
       "Standard deviation     13.50251 13.19051 12.95000 12.25608 12.21064 11.92931\n",
       "Proportion of Variance  0.00915  0.00873  0.00842  0.00754  0.00748  0.00714\n",
       "Cumulative Proportion   0.76217  0.77091  0.77932  0.78686  0.79434  0.80148\n",
       "                           PC25     PC26     PC27     PC28     PC29     PC30\n",
       "Standard deviation     11.40775 11.32287 11.22896 10.90467 10.68966 10.52236\n",
       "Proportion of Variance  0.00653  0.00643  0.00633  0.00597  0.00573  0.00556\n",
       "Cumulative Proportion   0.80801  0.81445  0.82077  0.82674  0.83247  0.83803\n",
       "                          PC31     PC32     PC33    PC34   PC35    PC36   PC37\n",
       "Standard deviation     10.4693 10.31549 10.10226 9.99087 9.8820 9.81932 9.5694\n",
       "Proportion of Variance  0.0055  0.00534  0.00512 0.00501 0.0049 0.00484 0.0046\n",
       "Cumulative Proportion   0.8435  0.84887  0.85399 0.85900 0.8639 0.86874 0.8733\n",
       "                          PC38    PC39    PC40    PC41    PC42    PC43    PC44\n",
       "Standard deviation     9.54990 9.41693 9.18498 9.10971 9.06816 8.88859 8.82609\n",
       "Proportion of Variance 0.00458 0.00445 0.00423 0.00416 0.00413 0.00396 0.00391\n",
       "Cumulative Proportion  0.87791 0.88236 0.88659 0.89076 0.89488 0.89885 0.90276\n",
       "                          PC45    PC46    PC47    PC48    PC49    PC50    PC51\n",
       "Standard deviation     8.62452 8.49593 8.37370 8.33177 8.26603 8.16616 8.06500\n",
       "Proportion of Variance 0.00373 0.00362 0.00352 0.00348 0.00343 0.00335 0.00326\n",
       "Cumulative Proportion  0.90649 0.91011 0.91363 0.91711 0.92054 0.92389 0.92715\n",
       "                          PC52    PC53    PC54    PC55    PC56    PC57    PC58\n",
       "Standard deviation     8.01705 7.92588 7.87918 7.81597 7.78320 7.68038 7.67313\n",
       "Proportion of Variance 0.00323 0.00315 0.00312 0.00307 0.00304 0.00296 0.00295\n",
       "Cumulative Proportion  0.93038 0.93353 0.93665 0.93971 0.94275 0.94571 0.94867\n",
       "                          PC59   PC60    PC61    PC62    PC63    PC64    PC65\n",
       "Standard deviation     7.51906 7.4733 7.38645 7.31324 7.29526 7.28604 7.17500\n",
       "Proportion of Variance 0.00284 0.0028 0.00274 0.00268 0.00267 0.00266 0.00258\n",
       "Cumulative Proportion  0.95150 0.9543 0.95704 0.95973 0.96240 0.96506 0.96765\n",
       "                          PC66    PC67    PC68    PC69    PC70    PC71    PC72\n",
       "Standard deviation     7.14232 7.09095 7.07046 6.95856 6.93281 6.88279 6.84815\n",
       "Proportion of Variance 0.00256 0.00252 0.00251 0.00243 0.00241 0.00238 0.00235\n",
       "Cumulative Proportion  0.97021 0.97273 0.97524 0.97767 0.98008 0.98246 0.98481\n",
       "                          PC73    PC74    PC75    PC76    PC77    PC78    PC79\n",
       "Standard deviation     6.70748 6.67845 6.64631 6.58564 6.56366 6.50464 6.33956\n",
       "Proportion of Variance 0.00226 0.00224 0.00222 0.00218 0.00216 0.00212 0.00202\n",
       "Cumulative Proportion  0.98707 0.98931 0.99152 0.99370 0.99586 0.99798 1.00000\n",
       "                            PC80\n",
       "Standard deviation     2.881e-13\n",
       "Proportion of Variance 0.000e+00\n",
       "Cumulative Proportion  1.000e+00"
      ]
     },
     "metadata": {},
     "output_type": "display_data"
    },
    {
     "data": {
      "text/html": [
       "<strong>pdf:</strong> 2"
      ],
      "text/latex": [
       "\\textbf{pdf:} 2"
      ],
      "text/markdown": [
       "**pdf:** 2"
      ],
      "text/plain": [
       "pdf \n",
       "  2 "
      ]
     },
     "metadata": {},
     "output_type": "display_data"
    }
   ],
   "source": [
    "# Calcula la varianza de cada gen (columna)\n",
    "gene_variance <- apply(norm_expr, 1, var)\n",
    "\n",
    "# Filtra genes con varianza mayor que 0.01 (ajusta el umbral si es necesario)\n",
    "norm_exprs_filtered <- norm_expr[gene_variance > 0.01, ]\n",
    "\n",
    "# Realiza PCA sobre los datos filtrados\n",
    "pca_result <- prcomp(t(norm_exprs_filtered), scale. = TRUE)\n",
    "\n",
    "# Ver la proporción de varianza explicada por cada componente principal\n",
    "summary(pca_result)\n",
    "\n",
    "# Extraer los primeros dos componentes principales\n",
    "pca_data <- data.frame(PC1 = pca_result$x[, 1], PC2 = pca_result$x[, 2], Group = metadata$Title)\n",
    "\n",
    "pdf(\"/home/mlopez/Desktop/alzheimer/results/GSE36980/pca_norm_expr_GSE36980.pdf\")\n",
    "# Graficar los primeros dos componentes principales\n",
    "ggplot(pca_data, aes(x = PC1, y = PC2, color = Group)) +\n",
    "  geom_point(size = 3) +\n",
    "  labs(title = \"PCA de Expresión Génica Normalizada\", x = \"Componente Principal 1\", y = \"Componente Principal 2\") +\n",
    "  theme_minimal() \n",
    "dev.off()"
   ]
  },
  {
   "cell_type": "code",
   "execution_count": 7,
   "id": "9ed8495a-0b4a-409c-bbbb-3ce44faeac3a",
   "metadata": {},
   "outputs": [],
   "source": [
    "metadata$Condition <- ifelse(grepl(\"^AD\", metadata$Title), \"AD\", \"Control\")\n",
    "metadata$Region <- sub(\".*_(.*)$\", \"\\\\1\", metadata$Title)  # FC, TC o HI\n",
    "# Crear subconjuntos por región\n",
    "metadata_FC <- subset(metadata, Region == \"FC\")\n",
    "metadata_TC <- subset(metadata, Region == \"TC\")\n",
    "metadata_HI <- subset(metadata, Region == \"HI\")\n",
    "\n",
    "# Y los datos de expresión correspondientes\n",
    "expr_FC <- norm_expr[, metadata_FC$Accession]\n",
    "expr_TC <- norm_expr[, metadata_TC$Accession]\n",
    "expr_HI <- norm_expr[, metadata_HI$Accession]"
   ]
  },
  {
   "cell_type": "code",
   "execution_count": 8,
   "id": "fed5aa9a-6ad6-4e11-a369-59d433bc38d2",
   "metadata": {},
   "outputs": [],
   "source": [
    "#FC \n",
    "\n",
    "# Diseño\n",
    "group_FC <- factor(metadata_FC$Condition, levels = c(\"Control\", \"AD\"))\n",
    "design_FC <- model.matrix(~ 0 + group_FC)\n",
    "colnames(design_FC) <- levels(group_FC)\n",
    "\n",
    "# Ajuste y contraste\n",
    "fit <- lmFit(expr_FC, design_FC)\n",
    "contrast <- makeContrasts(AD - Control, levels = design_FC)\n",
    "fit2 <- contrasts.fit(fit, contrast)\n",
    "fit2 <- eBayes(fit2)\n",
    "\n",
    "# Resultados\n",
    "res_FC <- topTable(fit2, number = Inf, adjust = \"fdr\")\n",
    "\n",
    "write.csv(res_FC, file = \"/home/mlopez/Desktop/alzheimer/results/GSE36980/dif_expr_results_GSE36980_FC.csv\", row.names = TRUE)"
   ]
  },
  {
   "cell_type": "code",
   "execution_count": 9,
   "id": "786d587b-2712-4982-972c-0447b2ed263d",
   "metadata": {},
   "outputs": [],
   "source": [
    "#TC\n",
    "\n",
    "# Diseño\n",
    "group_TC <- factor(metadata_TC$Condition, levels = c(\"Control\", \"AD\"))\n",
    "design_TC <- model.matrix(~ 0 + group_TC)\n",
    "colnames(design_TC) <- levels(group_TC)\n",
    "\n",
    "# Ajuste y contraste\n",
    "fit <- lmFit(expr_TC, design_TC)\n",
    "contrast <- makeContrasts(AD - Control, levels = design_TC)\n",
    "fit2 <- contrasts.fit(fit, contrast)\n",
    "fit2 <- eBayes(fit2)\n",
    "\n",
    "# Resultados\n",
    "res_TC <- topTable(fit2, number = Inf, adjust = \"fdr\")\n",
    "write.csv(res_TC, file = \"/home/mlopez/Desktop/alzheimer/results/GSE36980/dif_expr_results_GSE36980_TC.csv\", row.names = TRUE)"
   ]
  },
  {
   "cell_type": "code",
   "execution_count": 10,
   "id": "0d1a233e-e947-44cb-82ff-a99ae316d74b",
   "metadata": {},
   "outputs": [],
   "source": [
    "#HI\n",
    "\n",
    "# Diseño\n",
    "group_HI <- factor(metadata_HI$Condition, levels = c(\"Control\", \"AD\"))\n",
    "design_HI <- model.matrix(~ 0 + group_HI)\n",
    "colnames(design_HI) <- levels(group_HI)\n",
    "\n",
    "# Ajuste y contraste\n",
    "fit <- lmFit(expr_HI, design_HI)\n",
    "contrast <- makeContrasts(AD - Control, levels = design_HI)\n",
    "fit2 <- contrasts.fit(fit, contrast)\n",
    "fit2 <- eBayes(fit2)\n",
    "\n",
    "# Resultados\n",
    "res_HI <- topTable(fit2, number = Inf, adjust = \"fdr\")\n",
    "write.csv(res_HI, file = \"/home/mlopez/Desktop/alzheimer/results/GSE36980/dif_expr_results_GSE36980_HI.csv\", row.names = TRUE)"
   ]
  },
  {
   "cell_type": "code",
   "execution_count": 11,
   "id": "73ff6b1c-54b7-4cf4-8ab1-8fde35d9af36",
   "metadata": {},
   "outputs": [],
   "source": [
    "# Umbral de significancia (ajustado)\n",
    "padj_cutoff <- 0.05\n",
    "\n",
    "sig_FC <- rownames(res_FC[res_FC$adj.P.Val < padj_cutoff, ])\n",
    "sig_TC <- rownames(res_TC[res_TC$adj.P.Val < padj_cutoff, ])\n",
    "sig_HI <- rownames(res_HI[res_HI$adj.P.Val < padj_cutoff, ])"
   ]
  },
  {
   "cell_type": "code",
   "execution_count": 12,
   "id": "17724732-b0a1-4c02-a218-55300fbaaf8d",
   "metadata": {},
   "outputs": [
    {
     "data": {
      "text/html": [
       "<strong>pdf:</strong> 2"
      ],
      "text/latex": [
       "\\textbf{pdf:} 2"
      ],
      "text/markdown": [
       "**pdf:** 2"
      ],
      "text/plain": [
       "pdf \n",
       "  2 "
      ]
     },
     "metadata": {},
     "output_type": "display_data"
    }
   ],
   "source": [
    "# Lista de todos los genes únicos\n",
    "all_genes <- unique(c(sig_FC, sig_TC, sig_HI))\n",
    "\n",
    "# Crear matriz lógica\n",
    "venn_input <- data.frame(\n",
    "  FC = all_genes %in% sig_FC,\n",
    "  TC = all_genes %in% sig_TC,\n",
    "  HI = all_genes %in% sig_HI\n",
    ")\n",
    "rownames(venn_input) <- all_genes\n",
    "\n",
    "# Crear objeto Venn\n",
    "venn_counts <- vennCounts(venn_input)\n",
    "\n",
    "pdf(\"/home/mlopez/Desktop/alzheimer/results/GSE36980/venn_diagr_compar_result_muestr_GSE36980.pdf\")\n",
    "vennDiagram(venn_counts, circle.col = c(\"red\", \"green\", \"blue\"))\n",
    "dev.off()"
   ]
  },
  {
   "cell_type": "code",
   "execution_count": 16,
   "id": "6b83fc65-7c23-47e1-bca7-82ce0098cb97",
   "metadata": {},
   "outputs": [
    {
     "name": "stderr",
     "output_type": "stream",
     "text": [
      "\u001b[1m\u001b[22mNew names:\n",
      "\u001b[36m•\u001b[39m `` -> `...1`\n"
     ]
    }
   ],
   "source": [
    "AD_T4_targets <- read_excel(\"/home/mlopez/Desktop/alzheimer/data/AD_T4_targets.xlsx\")"
   ]
  },
  {
   "cell_type": "code",
   "execution_count": 24,
   "id": "5734590b-6168-42d1-9c0d-3882b256d380",
   "metadata": {},
   "outputs": [],
   "source": [
    "T4_expdf_FC <- na.omit(res_FC[AD_T4_targets$Prot,])\n",
    "T4_expdf_TC <- na.omit(res_TC[AD_T4_targets$Prot,])\n",
    "T4_expdf_HI <- na.omit(res_HI[AD_T4_targets$Prot,])"
   ]
  },
  {
   "cell_type": "code",
   "execution_count": 27,
   "id": "fec09fe1-2d27-46fe-a3e6-dda0209e2b71",
   "metadata": {},
   "outputs": [
    {
     "data": {
      "text/plain": [
       "\n",
       "FALSE \n",
       "   11 "
      ]
     },
     "metadata": {},
     "output_type": "display_data"
    },
    {
     "data": {
      "text/plain": [
       "\n",
       "FALSE  TRUE \n",
       "   10     1 "
      ]
     },
     "metadata": {},
     "output_type": "display_data"
    },
    {
     "data": {
      "text/plain": [
       "\n",
       "FALSE \n",
       "   11 "
      ]
     },
     "metadata": {},
     "output_type": "display_data"
    }
   ],
   "source": [
    "table(T4_expdf_FC$adj.P.Val < 0.05)\n",
    "table(T4_expdf_TC$adj.P.Val < 0.05)\n",
    "table(T4_expdf_HI$adj.P.Val < 0.05)"
   ]
  },
  {
   "cell_type": "code",
   "execution_count": 31,
   "id": "75df8d0d-94ec-40d5-8da5-274f70bb2689",
   "metadata": {},
   "outputs": [
    {
     "data": {
      "image/png": "[encoded data removed]",
      "text/plain": [
       "plot without title"
      ]
     },
     "metadata": {
      "image/png": {
       "height": 420,
       "width": 420
      }
     },
     "output_type": "display_data"
    }
   ],
   "source": [
    "T4_expdf_TC_sig <- T4_expdf_TC[T4_expdf_TC$adj.P.Val < 0.05, ]\n",
    "\n",
    "T4_expdf_TC_sig$gene <- rownames(T4_expdf_TC_sig)\n",
    "\n",
    "ggplot(T4_expdf_TC_sig, aes(x = gene, y = logFC, fill = logFC)) +\n",
    "  geom_col(width = 0.6) +\n",
    "  scale_fill_viridis(option = \"C\", direction = -1) +\n",
    "  labs(\n",
    "    title = \"logFC para genes T4 en Temporal Cortex\",\n",
    "    x = \"Gen\",\n",
    "    y = \"log2FC\",\n",
    "    fill = \"log2FC\"\n",
    "  ) +\n",
    "  theme_minimal(base_size = 16) +\n",
    "  theme(\n",
    "    axis.text.x = element_text(angle = 45, hjust = 1, size = 16),\n",
    "    axis.title = element_text(size = 20),\n",
    "    plot.title = element_text(size = 22, face = \"bold\")\n",
    "  )"
   ]
  }
 ],
 "metadata": {
  "kernelspec": {
   "display_name": "R",
   "language": "R",
   "name": "ir"
  },
  "language_info": {
   "codemirror_mode": "r",
   "file_extension": ".r",
   "mimetype": "text/x-r-source",
   "name": "R",
   "pygments_lexer": "r",
   "version": "4.3.3"
  }
 },
 "nbformat": 4,
 "nbformat_minor": 5
}
