{
 "cells": [
  {
   "cell_type": "code",
   "execution_count": 2,
   "id": "0ebd8c93-3b51-415e-84eb-ea0c3daf4990",
   "metadata": {},
   "outputs": [],
   "source": [
    "import gzip\n",
    "import pandas as pd\n",
    "import re"
   ]
  },
  {
   "cell_type": "code",
   "execution_count": 3,
   "id": "cf253fbe-a168-45d4-9ee8-2b82d2c0fca8",
   "metadata": {},
   "outputs": [],
   "source": [
    "soft_file = \"/home/mlopez/Desktop/alzheimer/data/GSE36980/GSE36980_family.soft.gz\""
   ]
  },
  {
   "cell_type": "code",
   "execution_count": 4,
   "id": "cdda667a-d412-4af8-899d-8dcf3765d195",
   "metadata": {},
   "outputs": [
    {
     "name": "stdout",
     "output_type": "stream",
     "text": [
      "   Accession  Title  Age Sex\n",
      "0  GSM907792  AD_FC   84   M\n",
      "1  GSM907793  AD_FC  105   F\n",
      "2  GSM907794  AD_FC   88   F\n",
      "3  GSM907795  AD_FC   88   M\n",
      "4  GSM907796  AD_FC   91   F\n"
     ]
    }
   ],
   "source": [
    "samples = []\n",
    "sample = {}\n",
    "\n",
    "with gzip.open(soft_file, 'rt', encoding='utf-8') as f:\n",
    "    for line in f:\n",
    "        line = line.strip()\n",
    "        if line.startswith(\"^SAMPLE\"):\n",
    "            if sample:\n",
    "                samples.append(sample)\n",
    "                sample = {}\n",
    "            sample[\"Accession\"] = line.split(\" = \")[1]\n",
    "        elif line.startswith(\"!Sample_title\"):\n",
    "            full_title = line.split(\" = \")[1]\n",
    "            sample[\"Title\"] = full_title.split(\",\")[0].strip()\n",
    "        elif line.startswith(\"!Sample_characteristics_ch1\"):\n",
    "            value = line.split(\" = \")[1]\n",
    "            if value.lower().startswith(\"sex:\"):\n",
    "                sample[\"Sex\"] = value.split(\":\")[1].strip()\n",
    "            elif value.lower().startswith(\"age:\"):\n",
    "                sample[\"Age\"] = value.split(\":\")[1].strip()\n",
    "            elif value.lower().startswith(\"disease status:\"):\n",
    "                sample[\"DiseaseStatus\"] = value.split(\":\")[1].strip()\n",
    "\n",
    "    if sample:\n",
    "        samples.append(sample)\n",
    "\n",
    "# Crear DataFrame\n",
    "df = pd.DataFrame(samples)\n",
    "\n",
    "# Mostrar tabla\n",
    "print(df.head())"
   ]
  },
  {
   "cell_type": "code",
   "execution_count": null,
   "id": "162a9202-0b0b-4981-a897-811626c6fb5e",
   "metadata": {},
   "outputs": [],
   "source": [
    "# Guardar el DataFrame en un archivo CSV\n",
    "output_csv = \"/home/mlopez/Desktop/alzheimer/results/GSE36980/.csv\"\n",
    "df.to_csv(output_csv, index=False)\n",
    "\n",
    "print(f\"Metadata guardada en: {output_csv}\")"
   ]
  }
 ],
 "metadata": {
  "kernelspec": {
   "display_name": "Python (rpy-notebook)",
   "language": "python",
   "name": "rpy-notebook"
  },
  "language_info": {
   "codemirror_mode": {
    "name": "ipython",
    "version": 3
   },
   "file_extension": ".py",
   "mimetype": "text/x-python",
   "name": "python",
   "nbconvert_exporter": "python",
   "pygments_lexer": "ipython3",
   "version": "3.10.16"
  }
 },
 "nbformat": 4,
 "nbformat_minor": 5
}
